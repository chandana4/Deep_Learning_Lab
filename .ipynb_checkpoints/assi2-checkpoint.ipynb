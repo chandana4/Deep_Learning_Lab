{
 "cells": [
  {
   "cell_type": "markdown",
   "id": "b6814296-6e0f-4c4a-a157-3440d8b36179",
   "metadata": {},
   "source": [
    "## Task 1: Custom CNN Implementation for Image Classification (6 marks)‬\n",
    "#### 1)Dataset Preparation‬:‬\n",
    "* Load CIFAR-10 and split into training, validation, and test sets.‬\n",
    "* Apply data augmentation (e.g., random horizontal flip).‬"
   ]
  },
  {
   "cell_type": "code",
   "execution_count": 1,
   "id": "66e60514-b21a-4c02-b605-a65a67aca819",
   "metadata": {},
   "outputs": [
    {
     "name": "stderr",
     "output_type": "stream",
     "text": [
      "2025-02-02 21:09:04.845843: I tensorflow/core/util/port.cc:113] oneDNN custom operations are on. You may see slightly different numerical results due to floating-point round-off errors from different computation orders. To turn them off, set the environment variable `TF_ENABLE_ONEDNN_OPTS=0`.\n",
      "2025-02-02 21:09:04.850282: I external/local_tsl/tsl/cuda/cudart_stub.cc:32] Could not find cuda drivers on your machine, GPU will not be used.\n",
      "2025-02-02 21:09:04.890880: I external/local_tsl/tsl/cuda/cudart_stub.cc:32] Could not find cuda drivers on your machine, GPU will not be used.\n",
      "2025-02-02 21:09:04.954623: E external/local_xla/xla/stream_executor/cuda/cuda_fft.cc:479] Unable to register cuFFT factory: Attempting to register factory for plugin cuFFT when one has already been registered\n",
      "2025-02-02 21:09:05.003751: E external/local_xla/xla/stream_executor/cuda/cuda_dnn.cc:10575] Unable to register cuDNN factory: Attempting to register factory for plugin cuDNN when one has already been registered\n",
      "2025-02-02 21:09:05.004037: E external/local_xla/xla/stream_executor/cuda/cuda_blas.cc:1442] Unable to register cuBLAS factory: Attempting to register factory for plugin cuBLAS when one has already been registered\n",
      "2025-02-02 21:09:05.093363: I tensorflow/core/platform/cpu_feature_guard.cc:210] This TensorFlow binary is optimized to use available CPU instructions in performance-critical operations.\n",
      "To enable the following instructions: AVX2 AVX_VNNI FMA, in other operations, rebuild TensorFlow with the appropriate compiler flags.\n",
      "2025-02-02 21:09:05.815096: W tensorflow/compiler/tf2tensorrt/utils/py_utils.cc:38] TF-TRT Warning: Could not find TensorRT\n"
     ]
    },
    {
     "name": "stdout",
     "output_type": "stream",
     "text": [
      "Downloading data from https://www.cs.toronto.edu/~kriz/cifar-10-python.tar.gz\n",
      "\u001b[1m170498071/170498071\u001b[0m \u001b[32m━━━━━━━━━━━━━━━━━━━━\u001b[0m\u001b[37m\u001b[0m \u001b[1m2296s\u001b[0m 13us/step\n",
      "Training set shape: (40000, 32, 32, 3)\n",
      "Validation set shape: (10000, 32, 32, 3)\n",
      "Test set shape: (10000, 32, 32, 3)\n"
     ]
    }
   ],
   "source": [
    "import tensorflow as tf\n",
    "from tensorflow.keras.preprocessing.image import ImageDataGenerator\n",
    "from sklearn.model_selection import train_test_split\n",
    "\n",
    "(x_train, y_train), (x_test, y_test) = tf.keras.datasets.cifar10.load_data()\n",
    "\n",
    "# Normalize pixel values to be between 0 and 1\n",
    "x_train, x_test = x_train / 255.0, x_test / 255.0\n",
    "\n",
    "# Split the training data into training and validation sets (80% train, 20% val)\n",
    "x_train, x_val, y_train, y_val = train_test_split(x_train, y_train, test_size=0.2, random_state=1)\n",
    "\n",
    "\n",
    "# Create an ImageDataGenerator for data augmentation\n",
    "train_datagen = ImageDataGenerator(\n",
    "    horizontal_flip=True,  # Random horizontal flip\n",
    "    rotation_range=20,  # Random rotations\n",
    "    width_shift_range=0.2,  # Random width shift\n",
    "    height_shift_range=0.2,  # Random height shift\n",
    "    zoom_range=0.2  # Random zoom\n",
    ")\n",
    "\n",
    "val_datagen = ImageDataGenerator()  # No augmentation for validation data\n",
    "test_datagen = ImageDataGenerator()  # No augmentation for test data\n",
    "\n",
    "# Fit the datagen generators to the training data\n",
    "train_datagen.fit(x_train)\n",
    "\n",
    "# Convert data into TensorFlow datasets for training\n",
    "train_generator = train_datagen.flow(x_train, y_train, batch_size=64)\n",
    "val_generator = val_datagen.flow(x_val, y_val, batch_size=64)\n",
    "test_generator = test_datagen.flow(x_test, y_test, batch_size=64)\n",
    "\n",
    "# Check the shape of the dataset\n",
    "print(f\"Training set shape: {x_train.shape}\")\n",
    "print(f\"Validation set shape: {x_val.shape}\")\n",
    "print(f\"Test set shape: {x_test.shape}\")\n"
   ]
  },
  {
   "cell_type": "markdown",
   "id": "fda1c1c1-cc69-4288-8569-6bb644bffc0e",
   "metadata": {},
   "source": [
    "#### 2)Model Design‬:‬\n",
    "* Define a CNN with the following layers:‬\n",
    "    * 2 convolutional layers (number of kernels = 64, kernel size = 3x3, stride = 1,‬ padding = 1).‬\n",
    "    * 2 max-pooling layers (kernel size = 2x2).‬\n",
    "    * 1 fully connected layer (hidden layer) with (units = 128, dropout = 0.5).‬\n",
    "    * Model architecture will be conv layer > pooling > conv layer > pooling > dense‬ layer > output layer‬\n",
    "    * Use ReLU activation and batch normalization after each convolutional layer.‬\n",
    "#### 3)Hyperparameter tuning:‬\n",
    "* Fine-tune the above model to find the optimal parameters that give the best performance.‬\n",
    "    * Try with different numbers of‬ convolutional layers/kernels/max pooling‬ layers/dense layers/dense layer units‬\n",
    "    * Try changing the activation functions/dropout rate/optimizer‬\n",
    "#### 4)Training‬:‬\n",
    "* Train the model using the models before and after hyper-parameter tuning.‬\n",
    "* Report training/validation accuracy and loss curves.‬\n",
    "#### 5)Evaluation‬:‬\n",
    "* Compute test accuracy.‬\n",
    "* Compare the performance between models before and after tuning.‬\n",
    "* Plot confusion matrix and classification report.‬"
   ]
  },
  {
   "cell_type": "markdown",
   "id": "e6f6b448-971f-4bbd-b5b1-88f74b93d8b0",
   "metadata": {},
   "source": [
    " "
   ]
  },
  {
   "cell_type": "markdown",
   "id": "bff20855-6184-4953-89d5-38524038f733",
   "metadata": {},
   "source": [
    "## Task 2: Transfer Learning with Pre-trained Architectures (2 marks)‬\n",
    "#### 1)Data Preparation‬:‬\n",
    "* Load the dataset and split into train/validation/test sets.‬\n",
    "* Resize images to match the input size of the pre-trained model.‬\n",
    "#### 2)Model Setup‬:‬\n",
    "* Load a pre-trained model from keras.‬\n",
    "* Replace the final fully connected layer accordingly.‬\n",
    "* Freeze all layers except the final classification layer.‬\n",
    "#### 3)Training‬:‬\n",
    "* Train only the unfrozen layers.‬\n",
    "#### 4)Analysis‬:‬\n",
    "* Compare test accuracy with your custom CNN from Task 1.‬\n",
    "* Discuss why the pre-trained model performs better/worse.‬"
   ]
  },
  {
   "cell_type": "markdown",
   "id": "dfe2f9be-34a4-4a41-a69c-51aa945fb9e9",
   "metadata": {},
   "source": [
    "## Task 3: Visualizing Model Decisions with Grad-CAM (2 marks)‬\n",
    "#### 1)Grad-CAM Implementation‬:‬\n",
    "* Extract feature maps from the last convolutional layer of your custom CNN.‬\n",
    "* Compute gradients of the predicted class score with respect to these feature maps.‬\n",
    "* Generate a heatmap by combining the feature maps and gradients.‬\n",
    "#### 2)Visualization‬:‬\n",
    "* Overlay the heatmap on 5 test images from the given dataset.‬\n",
    "* Compare regions highlighted by Grad-CAM with the actual objects in the images."
   ]
  },
  {
   "cell_type": "code",
   "execution_count": null,
   "id": "3cec8099-dedf-4f8e-a14f-5085d5e88505",
   "metadata": {},
   "outputs": [],
   "source": []
  },
  {
   "cell_type": "code",
   "execution_count": null,
   "id": "e708bb48-acb8-4be9-ae7f-9f823cc79202",
   "metadata": {},
   "outputs": [],
   "source": []
  }
 ],
 "metadata": {
  "kernelspec": {
   "display_name": "Python 3 (ipykernel)",
   "language": "python",
   "name": "python3"
  },
  "language_info": {
   "codemirror_mode": {
    "name": "ipython",
    "version": 3
   },
   "file_extension": ".py",
   "mimetype": "text/x-python",
   "name": "python",
   "nbconvert_exporter": "python",
   "pygments_lexer": "ipython3",
   "version": "3.10.12"
  }
 },
 "nbformat": 4,
 "nbformat_minor": 5
}
